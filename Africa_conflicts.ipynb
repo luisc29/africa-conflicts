{
 "cells": [
  {
   "cell_type": "markdown",
   "metadata": {},
   "source": [
    "# Analyzing the ACLED data with Spark"
   ]
  },
  {
   "cell_type": "markdown",
   "metadata": {},
   "source": [
    "ACLED (Armed Conflict Location and Event Data Project) is designed for disaggregated conflict analysis and crisis mapping. This dataset codes the dates and locations of all reported political violence and protest events in over 60 developing countries in Africa and Asia. Political violence and protest includes events that occur within civil wars and periods of instability, public protest and regime breakdown. The project covers all African countries from 1997 to the present, and South and South-East Asia in real-time. For more information visit the [ACLED website](http://www.acleddata.com/).\n",
    "\n",
    "This work is solely based on the african data, covering a time lapse between the years 1997 and 2015. The purpose of the work is to extract relevant information from the dataset using the basic features of Spark."
   ]
  },
  {
   "cell_type": "code",
   "execution_count": 1,
   "metadata": {
    "collapsed": false
   },
   "outputs": [],
   "source": [
    "%matplotlib inline\n",
    "\n",
    "import warnings\n",
    "warnings.filterwarnings('ignore')\n",
    "\n",
    "import numpy as np\n",
    "import matplotlib.pyplot as plt\n",
    "import pandas as pd\n",
    "from datetime import datetime\n",
    "\n",
    "import pyspark\n",
    "from pyspark.sql import SQLContext\n",
    "from pyspark.sql import Row\n",
    "from pyspark.sql.functions import date_format, col, udf, lit\n"
   ]
  },
  {
   "cell_type": "markdown",
   "metadata": {},
   "source": [
    "Create the Spark and SQL contexts."
   ]
  },
  {
   "cell_type": "code",
   "execution_count": 2,
   "metadata": {
    "collapsed": false
   },
   "outputs": [],
   "source": [
    "sc = pyspark.SparkContext('local[*]')\n",
    "sqlCtx = SQLContext(sc)"
   ]
  },
  {
   "cell_type": "markdown",
   "metadata": {},
   "source": [
    "Load the file with the data. This version contains less columns than the original dataset, for I removed unnecesary for this analysis, like coordinates, notes and source."
   ]
  },
  {
   "cell_type": "code",
   "execution_count": 3,
   "metadata": {
    "collapsed": false
   },
   "outputs": [],
   "source": [
    "africa_rdd = sc.textFile('africa2.csv')"
   ]
  },
  {
   "cell_type": "markdown",
   "metadata": {},
   "source": [
    "For every line, split the columns and map the lines with the Row. Then convert the RDD into a DataFrame."
   ]
  },
  {
   "cell_type": "code",
   "execution_count": 4,
   "metadata": {
    "collapsed": false
   },
   "outputs": [],
   "source": [
    "Event = Row('event_date', 'year', 'event_type', 'actor1', 'inter1', 'actor2', 'inter2', 'country', 'location', \n",
    "            'fatalities')\n",
    "\n",
    "def getEvent(line):\n",
    "    cells = line.split(',')\n",
    "    return Event(*cells)\n",
    "\n",
    "africa = africa_rdd.map(getEvent)\n",
    "africa_df = africa.toDF()"
   ]
  },
  {
   "cell_type": "markdown",
   "metadata": {
    "collapsed": true
   },
   "source": [
    "Convert the columns into the proper type and remove NAs. The resulting data frame contains the following attributes:\n",
    "- event_date: date of the event with the format dd/mm/yyyy\n",
    "- year: the year in which the event took place\n",
    "- event_type: a description of the type of the event that could be one of the following values\n",
    "    * Battle-No change of territory\n",
    "    * Battle-Non-state actor overtakes territory\n",
    "    * Battle-Government regains territory\n",
    "    * Headquarters or base established\n",
    "    * Strategic Development\n",
    "    * Riots/Protests\n",
    "    * Violence against civilians\n",
    "    * Non-violent transfer of territory\n",
    "    * Remote violence\n",
    "- actor1: actor involved in the conflict\n",
    "- inter1: type of actor1\n",
    "- actor2: actor involved in the conflict\n",
    "- inter2: type of actor2\n",
    "- country: the country in which the event took place\n",
    "- location: the location in which the event took place\n",
    "- fatalities: the numer or estimate of fatalities"
   ]
  },
  {
   "cell_type": "code",
   "execution_count": 5,
   "metadata": {
    "collapsed": false
   },
   "outputs": [],
   "source": [
    "africa_df = africa_df.select('*', africa_df.fatalities.cast('integer').alias('fatalities_i'), \n",
    "                             africa_df.year.cast('integer').alias('year_i'))\n",
    "africa_df = africa_df.dropna()\n",
    "africa_df = africa_df.select('*', date_format(africa_df.event_date,'\\\"%d/%m/%Y\\\"').alias('date'))"
   ]
  },
  {
   "cell_type": "code",
   "execution_count": 6,
   "metadata": {
    "collapsed": false
   },
   "outputs": [
    {
     "name": "stdout",
     "output_type": "stream",
     "text": [
      "root\n",
      " |-- event_date: string (nullable = true)\n",
      " |-- year: string (nullable = true)\n",
      " |-- event_type: string (nullable = true)\n",
      " |-- actor1: string (nullable = true)\n",
      " |-- inter1: string (nullable = true)\n",
      " |-- actor2: string (nullable = true)\n",
      " |-- inter2: string (nullable = true)\n",
      " |-- country: string (nullable = true)\n",
      " |-- location: string (nullable = true)\n",
      " |-- fatalities: string (nullable = true)\n",
      " |-- fatalities_i: integer (nullable = true)\n",
      " |-- year_i: integer (nullable = true)\n",
      " |-- date: string (nullable = true)\n",
      "\n"
     ]
    }
   ],
   "source": [
    "africa_df.printSchema()"
   ]
  },
  {
   "cell_type": "markdown",
   "metadata": {},
   "source": [
    "## Exploratory analysis"
   ]
  },
  {
   "cell_type": "markdown",
   "metadata": {},
   "source": [
    "This section shows an exploratory analysis to the dataset. First I register a temporary table with the dataframe created in the previous section."
   ]
  },
  {
   "cell_type": "code",
   "execution_count": 7,
   "metadata": {
    "collapsed": false
   },
   "outputs": [],
   "source": [
    "africa_df.registerTempTable(\"africa\")"
   ]
  },
  {
   "cell_type": "markdown",
   "metadata": {},
   "source": [
    "This query gets the top 10 of countries according to the number of conflicts. Somalia shows up as the most troubled country, probably a reflection of the ongoing [Somali Civil War](https://en.wikipedia.org/wiki/Somali_Civil_War)."
   ]
  },
  {
   "cell_type": "code",
   "execution_count": 8,
   "metadata": {
    "collapsed": false
   },
   "outputs": [
    {
     "data": {
      "text/html": [
       "<div>\n",
       "<table border=\"1\" class=\"dataframe\">\n",
       "  <thead>\n",
       "    <tr style=\"text-align: right;\">\n",
       "      <th></th>\n",
       "      <th>country</th>\n",
       "      <th>count</th>\n",
       "    </tr>\n",
       "  </thead>\n",
       "  <tbody>\n",
       "    <tr>\n",
       "      <th>0</th>\n",
       "      <td>\"Somalia\"</td>\n",
       "      <td>17454</td>\n",
       "    </tr>\n",
       "    <tr>\n",
       "      <th>1</th>\n",
       "      <td>\"Democratic Republic of Congo\"</td>\n",
       "      <td>9825</td>\n",
       "    </tr>\n",
       "    <tr>\n",
       "      <th>2</th>\n",
       "      <td>\"Nigeria\"</td>\n",
       "      <td>8541</td>\n",
       "    </tr>\n",
       "    <tr>\n",
       "      <th>3</th>\n",
       "      <td>\"Sudan\"</td>\n",
       "      <td>8227</td>\n",
       "    </tr>\n",
       "    <tr>\n",
       "      <th>4</th>\n",
       "      <td>\"South Africa\"</td>\n",
       "      <td>7421</td>\n",
       "    </tr>\n",
       "    <tr>\n",
       "      <th>5</th>\n",
       "      <td>\"Egypt\"</td>\n",
       "      <td>6917</td>\n",
       "    </tr>\n",
       "    <tr>\n",
       "      <th>6</th>\n",
       "      <td>\"Zimbabwe\"</td>\n",
       "      <td>5363</td>\n",
       "    </tr>\n",
       "    <tr>\n",
       "      <th>7</th>\n",
       "      <td>\"Kenya\"</td>\n",
       "      <td>5041</td>\n",
       "    </tr>\n",
       "    <tr>\n",
       "      <th>8</th>\n",
       "      <td>\"Uganda\"</td>\n",
       "      <td>4611</td>\n",
       "    </tr>\n",
       "    <tr>\n",
       "      <th>9</th>\n",
       "      <td>\"Sierra Leone\"</td>\n",
       "      <td>4598</td>\n",
       "    </tr>\n",
       "  </tbody>\n",
       "</table>\n",
       "</div>"
      ],
      "text/plain": [
       "                          country  count\n",
       "0                       \"Somalia\"  17454\n",
       "1  \"Democratic Republic of Congo\"   9825\n",
       "2                       \"Nigeria\"   8541\n",
       "3                         \"Sudan\"   8227\n",
       "4                  \"South Africa\"   7421\n",
       "5                         \"Egypt\"   6917\n",
       "6                      \"Zimbabwe\"   5363\n",
       "7                         \"Kenya\"   5041\n",
       "8                        \"Uganda\"   4611\n",
       "9                  \"Sierra Leone\"   4598"
      ]
     },
     "execution_count": 8,
     "metadata": {},
     "output_type": "execute_result"
    }
   ],
   "source": [
    "sqlCtx.sql('SELECT country, COUNT(*) AS count \\\n",
    "           FROM africa GROUP BY country ORDER BY count \\\n",
    "           DESC LIMIT 10').toPandas()"
   ]
  },
  {
   "cell_type": "markdown",
   "metadata": {},
   "source": [
    "Every event has an type that describes the nature of the conflict. The following query counts the number of incidences of every type of event, showing that the most common types are battles without change of territory and violence against civilians.\n",
    "\n",
    "This query was created using the API, and hereinafter all the queries are created this way."
   ]
  },
  {
   "cell_type": "code",
   "execution_count": 9,
   "metadata": {
    "collapsed": false
   },
   "outputs": [
    {
     "data": {
      "text/html": [
       "<div>\n",
       "<table border=\"1\" class=\"dataframe\">\n",
       "  <thead>\n",
       "    <tr style=\"text-align: right;\">\n",
       "      <th></th>\n",
       "      <th>event_type</th>\n",
       "      <th>count(event_type)</th>\n",
       "    </tr>\n",
       "  </thead>\n",
       "  <tbody>\n",
       "    <tr>\n",
       "      <th>0</th>\n",
       "      <td>\"Battle-No change of territory\"</td>\n",
       "      <td>34137</td>\n",
       "    </tr>\n",
       "    <tr>\n",
       "      <th>1</th>\n",
       "      <td>\"Violence against civilians\"</td>\n",
       "      <td>33393</td>\n",
       "    </tr>\n",
       "    <tr>\n",
       "      <th>2</th>\n",
       "      <td>\"Riots/Protests\"</td>\n",
       "      <td>29640</td>\n",
       "    </tr>\n",
       "    <tr>\n",
       "      <th>3</th>\n",
       "      <td>\"Strategic development\"</td>\n",
       "      <td>7217</td>\n",
       "    </tr>\n",
       "    <tr>\n",
       "      <th>4</th>\n",
       "      <td>\"Remote violence\"</td>\n",
       "      <td>6812</td>\n",
       "    </tr>\n",
       "    <tr>\n",
       "      <th>5</th>\n",
       "      <td>\"Non-violent transfer of territory\"</td>\n",
       "      <td>2150</td>\n",
       "    </tr>\n",
       "    <tr>\n",
       "      <th>6</th>\n",
       "      <td>\"Battle-Government regains territory\"</td>\n",
       "      <td>1891</td>\n",
       "    </tr>\n",
       "    <tr>\n",
       "      <th>7</th>\n",
       "      <td>\"Battle-Non-state actor overtakes territory\"</td>\n",
       "      <td>1803</td>\n",
       "    </tr>\n",
       "    <tr>\n",
       "      <th>8</th>\n",
       "      <td>\"Headquarters or base established\"</td>\n",
       "      <td>733</td>\n",
       "    </tr>\n",
       "  </tbody>\n",
       "</table>\n",
       "</div>"
      ],
      "text/plain": [
       "                                     event_type  count(event_type)\n",
       "0               \"Battle-No change of territory\"              34137\n",
       "1                  \"Violence against civilians\"              33393\n",
       "2                              \"Riots/Protests\"              29640\n",
       "3                       \"Strategic development\"               7217\n",
       "4                             \"Remote violence\"               6812\n",
       "5           \"Non-violent transfer of territory\"               2150\n",
       "6         \"Battle-Government regains territory\"               1891\n",
       "7  \"Battle-Non-state actor overtakes territory\"               1803\n",
       "8            \"Headquarters or base established\"                733"
      ]
     },
     "execution_count": 9,
     "metadata": {},
     "output_type": "execute_result"
    }
   ],
   "source": [
    "africa_df.select(\"country\", \"event_type\", \"year\")\\\n",
    "        .groupBy('event_type')\\\n",
    "        .agg({\"event_type\":\"count\"})\\\n",
    "        .orderBy('count(event_type)',ascending=False)\\\n",
    "        .limit(10)\\\n",
    "        .toPandas()"
   ]
  },
  {
   "cell_type": "markdown",
   "metadata": {},
   "source": [
    "The following query shows the top 10 of actors of factions that take part on conflicts. Armed groups and military forces shows up on the top 10, but also protesters and rioters."
   ]
  },
  {
   "cell_type": "code",
   "execution_count": 10,
   "metadata": {
    "collapsed": false
   },
   "outputs": [
    {
     "data": {
      "text/html": [
       "<div>\n",
       "<table border=\"1\" class=\"dataframe\">\n",
       "  <thead>\n",
       "    <tr style=\"text-align: right;\">\n",
       "      <th></th>\n",
       "      <th>actor1</th>\n",
       "      <th>count(actor1)</th>\n",
       "    </tr>\n",
       "  </thead>\n",
       "  <tbody>\n",
       "    <tr>\n",
       "      <th>0</th>\n",
       "      <td>\"Unidentified Armed Group (Somalia)\"</td>\n",
       "      <td>4543</td>\n",
       "    </tr>\n",
       "    <tr>\n",
       "      <th>1</th>\n",
       "      <td>\"Protesters (South Africa)\"</td>\n",
       "      <td>3428</td>\n",
       "    </tr>\n",
       "    <tr>\n",
       "      <th>2</th>\n",
       "      <td>\"Military Forces of Somalia (2012-)\"</td>\n",
       "      <td>3004</td>\n",
       "    </tr>\n",
       "    <tr>\n",
       "      <th>3</th>\n",
       "      <td>\"Rioters (South Africa)\"</td>\n",
       "      <td>2487</td>\n",
       "    </tr>\n",
       "    <tr>\n",
       "      <th>4</th>\n",
       "      <td>\"ZANU-PF: Zimbabwe African National Union-Patr...</td>\n",
       "      <td>2460</td>\n",
       "    </tr>\n",
       "    <tr>\n",
       "      <th>5</th>\n",
       "      <td>\"Protesters (Egypt)\"</td>\n",
       "      <td>2449</td>\n",
       "    </tr>\n",
       "    <tr>\n",
       "      <th>6</th>\n",
       "      <td>\"Al Shabaab\"</td>\n",
       "      <td>2385</td>\n",
       "    </tr>\n",
       "    <tr>\n",
       "      <th>7</th>\n",
       "      <td>\"Military Forces of Angola (1975-)\"</td>\n",
       "      <td>2347</td>\n",
       "    </tr>\n",
       "    <tr>\n",
       "      <th>8</th>\n",
       "      <td>\"Military Forces of Democratic Republic of Con...</td>\n",
       "      <td>2084</td>\n",
       "    </tr>\n",
       "    <tr>\n",
       "      <th>9</th>\n",
       "      <td>\"LRA: Lord's Resistance Army\"</td>\n",
       "      <td>1927</td>\n",
       "    </tr>\n",
       "  </tbody>\n",
       "</table>\n",
       "</div>"
      ],
      "text/plain": [
       "                                              actor1  count(actor1)\n",
       "0               \"Unidentified Armed Group (Somalia)\"           4543\n",
       "1                        \"Protesters (South Africa)\"           3428\n",
       "2               \"Military Forces of Somalia (2012-)\"           3004\n",
       "3                           \"Rioters (South Africa)\"           2487\n",
       "4  \"ZANU-PF: Zimbabwe African National Union-Patr...           2460\n",
       "5                               \"Protesters (Egypt)\"           2449\n",
       "6                                       \"Al Shabaab\"           2385\n",
       "7                \"Military Forces of Angola (1975-)\"           2347\n",
       "8  \"Military Forces of Democratic Republic of Con...           2084\n",
       "9                      \"LRA: Lord's Resistance Army\"           1927"
      ]
     },
     "execution_count": 10,
     "metadata": {},
     "output_type": "execute_result"
    }
   ],
   "source": [
    "africa_df.select('actor1','inter1')\\\n",
    "            .groupBy('actor1')\\\n",
    "            .agg({'actor1':'count'})\\\n",
    "            .orderBy('count(actor1)', ascending=False)\\\n",
    "            .limit(10)\\\n",
    "            .toPandas()"
   ]
  },
  {
   "cell_type": "markdown",
   "metadata": {},
   "source": [
    "Next, I show the top 10 of most conflicting cities according to the number of events registered per location. For that, I create a dataframe with the registry of cities and countries they belong to (first query). The following query gets the locations aggregated by the count of events, resulting in a second dataframe. Finally, I join both datasets by the 'location' column. The result shows the top 10 of conflicting locations with the country."
   ]
  },
  {
   "cell_type": "code",
   "execution_count": 11,
   "metadata": {
    "collapsed": false
   },
   "outputs": [
    {
     "data": {
      "text/html": [
       "<div>\n",
       "<table border=\"1\" class=\"dataframe\">\n",
       "  <thead>\n",
       "    <tr style=\"text-align: right;\">\n",
       "      <th></th>\n",
       "      <th>count(location)</th>\n",
       "      <th>country</th>\n",
       "      <th>location</th>\n",
       "    </tr>\n",
       "  </thead>\n",
       "  <tbody>\n",
       "    <tr>\n",
       "      <th>0</th>\n",
       "      <td>1218</td>\n",
       "      <td>\"Somalia\"</td>\n",
       "      <td>\"Mogadishu\"</td>\n",
       "    </tr>\n",
       "    <tr>\n",
       "      <th>1</th>\n",
       "      <td>1080</td>\n",
       "      <td>\"Zimbabwe\"</td>\n",
       "      <td>\"Harare\"</td>\n",
       "    </tr>\n",
       "    <tr>\n",
       "      <th>2</th>\n",
       "      <td>892</td>\n",
       "      <td>\"Central African Republic\"</td>\n",
       "      <td>\"Bangui\"</td>\n",
       "    </tr>\n",
       "    <tr>\n",
       "      <th>3</th>\n",
       "      <td>730</td>\n",
       "      <td>\"Somalia\"</td>\n",
       "      <td>\"Hodan\"</td>\n",
       "    </tr>\n",
       "    <tr>\n",
       "      <th>4</th>\n",
       "      <td>696</td>\n",
       "      <td>\"Libya\"</td>\n",
       "      <td>\"Tripoli\"</td>\n",
       "    </tr>\n",
       "    <tr>\n",
       "      <th>5</th>\n",
       "      <td>678</td>\n",
       "      <td>\"Ivory Coast\"</td>\n",
       "      <td>\"Abidjan\"</td>\n",
       "    </tr>\n",
       "    <tr>\n",
       "      <th>6</th>\n",
       "      <td>676</td>\n",
       "      <td>\"South Africa\"</td>\n",
       "      <td>\"Cape Town\"</td>\n",
       "    </tr>\n",
       "    <tr>\n",
       "      <th>7</th>\n",
       "      <td>676</td>\n",
       "      <td>\"Egypt\"</td>\n",
       "      <td>\"Cairo\"</td>\n",
       "    </tr>\n",
       "    <tr>\n",
       "      <th>8</th>\n",
       "      <td>652</td>\n",
       "      <td>\"Libya\"</td>\n",
       "      <td>\"Benghazi\"</td>\n",
       "    </tr>\n",
       "    <tr>\n",
       "      <th>9</th>\n",
       "      <td>640</td>\n",
       "      <td>\"Somalia\"</td>\n",
       "      <td>\"Kismayo\"</td>\n",
       "    </tr>\n",
       "  </tbody>\n",
       "</table>\n",
       "</div>"
      ],
      "text/plain": [
       "   count(location)                     country     location\n",
       "0             1218                   \"Somalia\"  \"Mogadishu\"\n",
       "1             1080                  \"Zimbabwe\"     \"Harare\"\n",
       "2              892  \"Central African Republic\"     \"Bangui\"\n",
       "3              730                   \"Somalia\"      \"Hodan\"\n",
       "4              696                     \"Libya\"    \"Tripoli\"\n",
       "5              678               \"Ivory Coast\"    \"Abidjan\"\n",
       "6              676              \"South Africa\"  \"Cape Town\"\n",
       "7              676                     \"Egypt\"      \"Cairo\"\n",
       "8              652                     \"Libya\"   \"Benghazi\"\n",
       "9              640                   \"Somalia\"    \"Kismayo\""
      ]
     },
     "execution_count": 11,
     "metadata": {},
     "output_type": "execute_result"
    }
   ],
   "source": [
    "locations_df = sqlCtx.sql('SELECT country, location FROM africa GROUP BY location, country')\n",
    "\n",
    "top_conflicting_locations = africa_df.select('location')\\\n",
    "                                    .groupBy('location')\\\n",
    "                                    .agg({'location':'count'})\\\n",
    "                                    .orderBy('count(location)', ascending=False)\\\n",
    "                                    .limit(10)\n",
    "\n",
    "joined_df = top_conflicting_locations.join(locations_df, top_conflicting_locations.location == locations_df.location, 'inner')\\\n",
    "                                    .orderBy('count(location)', ascending=False)\\\n",
    "                                    .drop(top_conflicting_locations.location)\n",
    "joined_df.toPandas()"
   ]
  },
  {
   "cell_type": "markdown",
   "metadata": {},
   "source": [
    "## Libya at war"
   ]
  },
  {
   "cell_type": "markdown",
   "metadata": {},
   "source": [
    "In the past 5 years Libya has faced several armed conflicts, and in this analysis I show the evidence present in the data. I start by creating a dataframe with only events registered in Libya."
   ]
  },
  {
   "cell_type": "code",
   "execution_count": 12,
   "metadata": {
    "collapsed": false
   },
   "outputs": [],
   "source": [
    "libya_df = africa_df.select('*')\\\n",
    "                    .where(\"country='\\\"Libya\\\"'\")"
   ]
  },
  {
   "cell_type": "markdown",
   "metadata": {},
   "source": [
    "Aggregating this dataset by the number of conflicts per year shows a clear change between the years 2010 and 2011. In 2011 the [First Libyan Civil War](https://en.wikipedia.org/wiki/Libyan_civil_war_(2011), leading to a phase of turmoil known as the [Post-civil war violence](https://en.wikipedia.org/wiki/Factional_violence_in_Libya_(2011%E2%80%9314) and the still ongoing [Second Libyan Civil War](https://en.wikipedia.org/wiki/Libyan_civil_war_(2014%E2%80%93present). This events increased the number of conflicts dramatically, as can be seen in the plot below."
   ]
  },
  {
   "cell_type": "code",
   "execution_count": 13,
   "metadata": {
    "collapsed": false
   },
   "outputs": [
    {
     "data": {
      "text/plain": [
       "<matplotlib.text.Text at 0x7faa8c1aa320>"
      ]
     },
     "execution_count": 13,
     "metadata": {},
     "output_type": "execute_result"
    },
    {
     "data": {
      "image/png": "[encoded data removed]",
      "text/plain": [
       "<matplotlib.figure.Figure at 0x7faa803a0160>"
      ]
     },
     "metadata": {},
     "output_type": "display_data"
    }
   ],
   "source": [
    "df = libya_df.groupBy('year')\\\n",
    "                .agg({'year':'count'})\\\n",
    "                .toPandas()\n",
    "        \n",
    "fig = plt.figure(figsize=(10,4))\n",
    "ax = fig.add_subplot(111)\n",
    "ax.plot(df['year'],df['count(year)'])\n",
    "ax.set_title('Lybian conflicts per year')\n",
    "ax.set_xlabel('Year')\n",
    "ax.set_ylabel('Number of conflicts')"
   ]
  },
  {
   "cell_type": "markdown",
   "metadata": {},
   "source": [
    "The next pieces of code is an analysis of the conflicts in 2015. The query aggregates the data per day and counts the number of fatalities. The total of fatalities in 2015 was of 2705, and the most deadly day was January 3, with a death toll of 101 due to 7 conflicts."
   ]
  },
  {
   "cell_type": "code",
   "execution_count": 14,
   "metadata": {
    "collapsed": false
   },
   "outputs": [],
   "source": [
    "libya_fatalities_per_day = libya_df.select('year','event_date','fatalities_i')\\\n",
    "                                    .where(\"year=2015\")\\\n",
    "                                    .groupBy('event_date')\\\n",
    "                                    .agg({'fatalities_i':'sum','event_date':'count'})\\\n",
    "                                    .orderBy('sum(fatalities_i)',ascending=False)"
   ]
  },
  {
   "cell_type": "code",
   "execution_count": 15,
   "metadata": {
    "collapsed": false,
    "scrolled": false
   },
   "outputs": [
    {
     "name": "stdout",
     "output_type": "stream",
     "text": [
      "Fatalities in 2015: 2705\n",
      "Most deadly day:  Row(event_date='\"03/01/2015\"', sum(fatalities_i)=101, count(event_date)=7)\n"
     ]
    }
   ],
   "source": [
    "df = libya_fatalities_per_day.toPandas() \n",
    "df['event_date'] = np.array([datetime.strptime(x, '\\\"%d/%m/%Y\\\"') for x in df['event_date']])\n",
    "df['sum(fatalities_i)'] = [int(x) for x in df['sum(fatalities_i)']]\n",
    "df = df.sort(['event_date'],ascending=[1])\n",
    "\n",
    "fatalities_2015 = sum(df['sum(fatalities_i)'])\n",
    "\n",
    "print('Fatalities in 2015: ' + str(fatalities_2015))\n",
    "print('Most deadly day: ', libya_fatalities_per_day.first())"
   ]
  },
  {
   "cell_type": "code",
   "execution_count": 16,
   "metadata": {
    "collapsed": false
   },
   "outputs": [
    {
     "data": {
      "text/plain": [
       "<matplotlib.text.Text at 0x7faa8c1672e8>"
      ]
     },
     "execution_count": 16,
     "metadata": {},
     "output_type": "execute_result"
    },
    {
     "data": {
      "image/png": "[encoded data removed]",
      "text/plain": [
       "<matplotlib.figure.Figure at 0x7faa80464dd8>"
      ]
     },
     "metadata": {},
     "output_type": "display_data"
    }
   ],
   "source": [
    "fig = plt.figure(figsize=(18,4))\n",
    "ax = fig.add_subplot(111)\n",
    "ax.plot_date(df['event_date'],df['sum(fatalities_i)'], fmt='r-', label = \"Number of fatalities\")\n",
    "ax.set_title('Fatalities per day')\n",
    "ax.set_xlabel('Date')\n",
    "ax.set_ylabel('Number of fatalities')"
   ]
  }
 ],
 "metadata": {
  "kernelspec": {
   "display_name": "Python 3",
   "language": "python",
   "name": "python3"
  },
  "language_info": {
   "codemirror_mode": {
    "name": "ipython",
    "version": 3
   },
   "file_extension": ".py",
   "mimetype": "text/x-python",
   "name": "python",
   "nbconvert_exporter": "python",
   "pygments_lexer": "ipython3",
   "version": "3.5.1"
  }
 },
 "nbformat": 4,
 "nbformat_minor": 0
}
